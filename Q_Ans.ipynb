{
 "cells": [
  {
   "cell_type": "markdown",
   "metadata": {},
   "source": [
    "1. **Define a Class and Create an Object:**\n",
    "    - Create a simple `Car` class with attributes like `make`, `model`, and `year` Create an object of this class.\n"
   ]
  },
  {
   "cell_type": "code",
   "execution_count": 1,
   "metadata": {},
   "outputs": [
    {
     "name": "stdout",
     "output_type": "stream",
     "text": [
      "1999\n",
      "toyota\n",
      "2023\n"
     ]
    }
   ],
   "source": [
    "\n",
    "\n",
    "class Car:\n",
    "    def __init__(self, make, model, year):\n",
    "        self.make = make\n",
    "        self.model = model\n",
    "        self.year = year\n",
    "my_car = Car(1999, 'toyota', 2023)\n",
    "print(my_car.make)\n",
    "print(my_car.model)\n",
    "print(my_car.year)\n"
   ]
  },
  {
   "cell_type": "markdown",
   "metadata": {},
   "source": [
    "\n",
    "2. **Instance Variables and Methods:**\n",
    "  - Create a `Person` class with attributes `name` and `age`. Add a method `greet()` that prints a greeting message.\n"
   ]
  },
  {
   "cell_type": "code",
   "execution_count": null,
   "metadata": {},
   "outputs": [],
   "source": [
    "\n",
    "class Person:\n",
    "    def __init__(self, name, age):\n",
    "        self.name = name\n",
    "        self.age = age\n",
    "    def greet(self):\n",
    "        return \"greetings to all\"\n",
    "\n",
    "p = Person('rizwan', 24)\n",
    "print(p.greet())\n",
    "print(p.name)\n",
    "print(p.age)\n",
    "\n",
    "\n"
   ]
  },
  {
   "cell_type": "markdown",
   "metadata": {},
   "source": [
    "\n",
    " 3. **Constructor Method (`__init__`):**\n",
    "    - Define a `Book` class with attributes `title`, `author`, and `pages`. Initialize these attributes using a constructor.\n"
   ]
  },
  {
   "cell_type": "code",
   "execution_count": 1,
   "metadata": {},
   "outputs": [
    {
     "name": "stdout",
     "output_type": "stream",
     "text": [
      "Imran khan\n",
      "rizwan\n",
      "300\n"
     ]
    }
   ],
   "source": [
    "class Book:\n",
    "    def __init__(self, title, author, pages):\n",
    "        self.title = title\n",
    "        self.author = author\n",
    "        self.pages = pages\n",
    "\n",
    "b = Book(\"Imran khan\", \"rizwan\", 300)\n",
    "print(b.title)\n",
    "print(b.author)\n",
    "print(b.pages)\n",
    "\n"
   ]
  },
  {
   "cell_type": "markdown",
   "metadata": {},
   "source": [
    "\n",
    "\n",
    "\n",
    " 4. **Class Variables:**\n",
    "    - Create a `Dog` class with a class variable `species` set to \"Canine\". Create several instances and show that they share the same `species` value.\n",
    "\n"
   ]
  },
  {
   "cell_type": "code",
   "execution_count": 3,
   "metadata": {},
   "outputs": [
    {
     "name": "stdout",
     "output_type": "stream",
     "text": [
      "Canine\n",
      "Canine\n"
     ]
    }
   ],
   "source": [
    "\n",
    "class Dog:\n",
    "    species = 'Canine'\n",
    "\n",
    "    def __init__(self, name,age):\n",
    "        self.name = name\n",
    "        self.age = age\n",
    "\n",
    "d1 = Dog('tommy', 12)\n",
    "d2 = Dog('plutu', 3)\n",
    "\n",
    "print(d1.species)\n",
    "print(d2.species)\n",
    "\n"
   ]
  },
  {
   "cell_type": "markdown",
   "metadata": {},
   "source": [
    "5. **Write a Python program to create a person class. Include attributes like name, \n",
    "country and date of birth. Implement a method to determine the person's age.**"
   ]
  },
  {
   "cell_type": "code",
   "execution_count": 4,
   "metadata": {},
   "outputs": [
    {
     "name": "stdout",
     "output_type": "stream",
     "text": [
      "rizwan 25 1999\n",
      "25\n"
     ]
    }
   ],
   "source": [
    "class Person:\n",
    "    def __init__(self, name, age , dob):\n",
    "        self.name = name\n",
    "        self.age = age\n",
    "        self.dob = dob\n",
    "    def calculate_age(self):\n",
    "        current_year = 2024\n",
    "        return current_year - self.dob\n",
    "    \n",
    "p = Person('rizwan', 25, 1999)\n",
    "print(p.name, p.age, p.dob)\n",
    "print(p.calculate_age())\n",
    "\n",
    "\n"
   ]
  },
  {
   "cell_type": "markdown",
   "metadata": {},
   "source": [
    "\n",
    "6. **Write a Python program to create a calculator class.\n",
    "Include methods for basic arithmetic operations.**\n"
   ]
  },
  {
   "cell_type": "code",
   "execution_count": 5,
   "metadata": {},
   "outputs": [
    {
     "name": "stdout",
     "output_type": "stream",
     "text": [
      "Addition value is 4\n",
      "-2\n",
      "3\n",
      "0.3333333333333333\n"
     ]
    }
   ],
   "source": [
    "class Calculater:\n",
    "    def add_val(self,a, b):\n",
    "        return a + b\n",
    "    \n",
    "    def sub_val(self, a, b):\n",
    "        return a - b\n",
    "    \n",
    "    def mul_val(self, a, b):\n",
    "        return a * b\n",
    "\n",
    "    def div_val(sel,a, b):\n",
    "        return a / b \n",
    "    \n",
    "cal = Calculater()\n",
    "print(f'Addition value is {cal.add_val(1,3)}')\n",
    "print(cal.sub_val(1,3))\n",
    "print(cal.mul_val(1,3))\n",
    "print(cal.div_val(1,3))"
   ]
  },
  {
   "cell_type": "markdown",
   "metadata": {},
   "source": [
    " 7. **Modify Object Attributes:**\n",
    "    - Create a `Student` class with attributes `name` and `grade`. Add a method to change the `grade` of a student.\n",
    "\n"
   ]
  },
  {
   "cell_type": "code",
   "execution_count": 6,
   "metadata": {},
   "outputs": [
    {
     "name": "stdout",
     "output_type": "stream",
     "text": [
      "Rizwan\n",
      "A+\n",
      "B+\n"
     ]
    }
   ],
   "source": [
    "class Student:\n",
    "    def __init__(self, name, grade):\n",
    "        self.name = name \n",
    "        self.grade = grade\n",
    "\n",
    "    def cha_grade(self, u_grade):\n",
    "        self.grade = u_grade\n",
    "\n",
    "# Creating an instance of Student\n",
    "g = Student('Rizwan', 'A+')\n",
    "\n",
    "# Printing initial values\n",
    "print(g.name)  # Output: Rizwan\n",
    "print(g.grade) # Output: A+\n",
    "\n",
    "# Changing the grade using the instance method\n",
    "g.cha_grade('B+')\n",
    "\n",
    "# Printing the updated grade\n",
    "print(g.grade) # Output: B+\n"
   ]
  },
  {
   "cell_type": "markdown",
   "metadata": {},
   "source": [
    "8. **Encapsulation:**\n",
    "    - Implement a `BankAccount` class with private attributes `_balance` and methods `deposit()` and `withdraw()` to modify the balance.\n"
   ]
  },
  {
   "cell_type": "code",
   "execution_count": 19,
   "metadata": {},
   "outputs": [
    {
     "name": "stdout",
     "output_type": "stream",
     "text": [
      "Initial Balance: 100\n",
      "Deposited: 50\n",
      "Balance after deposit: 150\n",
      "Withdrawn: 30\n",
      "Balance after withdrawal: 120\n",
      "Insufficient funds or invalid amount\n"
     ]
    }
   ],
   "source": [
    "class BankAccount:\n",
    "    def __init__(self, initial_balance=0):\n",
    "        self._balance = initial_balance  # Private attribute\n",
    "    \n",
    "    def deposit(self, amount):\n",
    "        if amount > 0:\n",
    "            self._balance += amount\n",
    "            print(f\"Deposited: {amount}\")\n",
    "        else:\n",
    "            print(\"Deposit amount must be positive\")\n",
    "    \n",
    "    def withdraw(self, amount):\n",
    "        if 0 < amount <= self._balance:\n",
    "            self._balance -= amount\n",
    "            print(f\"Withdrawn: {amount}\")\n",
    "        else:\n",
    "            print(\"Insufficient funds or invalid amount\")\n",
    "    \n",
    "    def get_balance(self):\n",
    "        return self._balance\n",
    "\n",
    "# Example usage:\n",
    "account = BankAccount(100)  # Initial balance of 100\n",
    "print(f\"Initial Balance: {account.get_balance()}\")\n",
    "\n",
    "account.deposit(50)  # Depositing 50\n",
    "print(f\"Balance after deposit: {account.get_balance()}\")\n",
    "\n",
    "account.withdraw(30)  # Withdrawing 30\n",
    "print(f\"Balance after withdrawal: {account.get_balance()}\")\n",
    "\n",
    "account.withdraw(150)  # Attempt to withdraw more than the balance\n"
   ]
  },
  {
   "cell_type": "markdown",
   "metadata": {},
   "source": [
    "* 9. Write a Python program to create a class that represents a shape. Include methods to calculate its area and perimeter. Implement subclasses for different shapes like circle, triangle, and square.*\n"
   ]
  },
  {
   "cell_type": "code",
   "execution_count": null,
   "metadata": {},
   "outputs": [],
   "source": [
    "\n",
    "import math\n",
    "class shape:\n",
    "    def calculate_area(self):\n",
    "       pass\n",
    "    def calculate_parimeter(self):\n",
    "        pass\n",
    "\n",
    "# subclass\n",
    "class circle(shape):\n",
    "    def __init__(self, radius):\n",
    "        self.radius = radius\n",
    "\n",
    "    def calculate_area(self):\n",
    "        return math.pi * self.radius ** 2\n",
    "    \n",
    "    def calculate_parimeter(self):\n",
    "        return 2 * math.pi * self.radius\n",
    "    \n",
    "\n",
    "class square(shape):\n",
    "    def __init__(self, length, weight):\n",
    "        self.length = length\n",
    "        self.weight = weight\n",
    "\n",
    "    def calculate_area(self):\n",
    "        return self.length * self.weight\n",
    "    \n",
    "    def calculate_parimeter(self):\n",
    "        return 2 * (self.length + self.weight)\n",
    "    \n",
    "\n",
    "class triangle(shape):\n",
    "    def __init__(self, base, height, side1, side2, side3):\n",
    "        self.base = base \n",
    "        self.height = height\n",
    "        self.side1 = side1\n",
    "        self.side2 = side2\n",
    "        self.side3 = side3\n",
    "\n",
    "    def calculate_area(self):\n",
    "        return 0.5 * self.base * self.height\n",
    "    \n",
    "    def calculate_parimeter(self):\n",
    "        return self.side1 + self.side2 + self.side3\n",
    "\n",
    "print('calculation of circle')\n",
    "r = 10\n",
    "circle = circle(r)\n",
    "cal_area = circle.calculate_area()\n",
    "cal_parimter = circle.calculate_parimeter()\n",
    "\n",
    "print(f'The value of Radius is {r}')\n",
    "print(f'The claculated value of circle of radius {r} is {cal_area}')\n",
    "print(f'The claculated value of circle of radius {r} is {cal_parimter}')\n",
    "\n",
    "print('calculation of SQUARE')\n",
    "l = 10\n",
    "w = 15\n",
    "square = square(l, w)\n",
    "cal_area = square.calculate_area()\n",
    "cal_parimter = square.calculate_parimeter()\n",
    "\n",
    "print(f'The value of length is {l} and value of wieght is {w}')\n",
    "print(f'The claculated value of area for sqare is {cal_area}')\n",
    "print(f'The claculated value of parimetr for square is {cal_parimter}')\n",
    "\n",
    "print('Calculation of Triangle')\n",
    "b = 10\n",
    "h = 15\n",
    "s1 = 44\n",
    "s2 = 55\n",
    "s3 = 66\n",
    "triangle = triangle(b, h, s1, s2, s3)\n",
    "cal_area = triangle.calculate_area()\n",
    "cal_parimter = triangle.calculate_parimeter()\n",
    "\n",
    "print(f'The values of base is {b}, height is {h}, side1 is {s1},side1 is {s2},side1 is {s3},')\n",
    "print(f'The claculated value of area for triangle is {cal_area}')\n",
    "print(f'The claculated value of parimetr for triangle is {cal_parimter}')\n",
    "\n"
   ]
  },
  {
   "cell_type": "markdown",
   "metadata": {},
   "source": [
    "10. **Inheritance:**\n",
    "    - Create a `Vehicle` class with attributes `make` and `model`. Create a `Car` subclass that inherits from `Vehicle` and adds an attribute `number_of_doors`.\n"
   ]
  },
  {
   "cell_type": "code",
   "execution_count": 15,
   "metadata": {},
   "outputs": [
    {
     "name": "stdout",
     "output_type": "stream",
     "text": [
      "2002\n",
      "2010\n",
      "4\n"
     ]
    }
   ],
   "source": [
    "class Vehicle:\n",
    "    def __init__(self, make, model):\n",
    "        self.make = make\n",
    "        self.model = model\n",
    "\n",
    "class Car(Vehicle):\n",
    "    def __init__(self, make, model, number_of_doors):\n",
    "        super().__init__(make, model)\n",
    "        self.number_of_doors = number_of_doors\n",
    "\n",
    "car = Car(2002, 2010, 4)\n",
    "print(car.make)\n",
    "print(car.model)\n",
    "print(car.number_of_doors)\n"
   ]
  },
  {
   "cell_type": "markdown",
   "metadata": {},
   "source": [
    " 11. **Method Overriding:**\n",
    "    - Inherit a `Bird` class from an `Animal` class and override the `sound()` method to print \"Chirp\" instead of a generic sound.\n"
   ]
  },
  {
   "cell_type": "code",
   "execution_count": 7,
   "metadata": {},
   "outputs": [
    {
     "name": "stdout",
     "output_type": "stream",
     "text": [
      "Generic sound\n",
      "Chirp\n"
     ]
    }
   ],
   "source": [
    "class Animal:\n",
    "    def sound(self):\n",
    "        return \"Generic sound\"\n",
    "    \n",
    "class Bird(Animal):\n",
    "    def sound(self):\n",
    "        return \"Chirp\"\n",
    "\n",
    "animal = Animal()\n",
    "print(animal.sound())\n",
    "\n",
    "\n",
    "bird = Bird()\n",
    "print(bird.sound())"
   ]
  },
  {
   "cell_type": "markdown",
   "metadata": {},
   "source": [
    " 12. **Polymorphism:**\n",
    "    - Create a `Shape` base class with a method `area()`. Implement this method in `Circle` and `Rectangle` subclasses.\n"
   ]
  },
  {
   "cell_type": "code",
   "execution_count": 13,
   "metadata": {},
   "outputs": [
    {
     "name": "stdout",
     "output_type": "stream",
     "text": [
      "Circle area: 113.09733552923255\n",
      "Rectangle area: 28\n"
     ]
    }
   ],
   "source": [
    "import math\n",
    "\n",
    "\n",
    "class Shape:\n",
    "    def area(slef):\n",
    "        pass\n",
    "    \n",
    "class Circle(Shape):\n",
    "    def __init__(self, radius):\n",
    "        self.radius = radius\n",
    "\n",
    "    def area(self):\n",
    "        return math.pi * self.radius ** 2\n",
    "\n",
    "\n",
    "class Rectangle(Shape):\n",
    "    def __init__(self, weight, hight):\n",
    "        self.weight = weight\n",
    "        self.hight = hight\n",
    "\n",
    "\n",
    "    def area(self):\n",
    "        return self.weight * self.hight\n",
    "    \n",
    "shapes = [Circle(6), Rectangle(4,7)]\n",
    "\n",
    "for shape in shapes:\n",
    "    print(f\"{shape.__class__.__name__} area: {shape.area()}\")"
   ]
  },
  {
   "cell_type": "markdown",
   "metadata": {},
   "source": [
    " 13. **`super()` Keyword:**\n",
    "     - Use `super()` in a subclass constructor to call the constructor of the parent class.\n"
   ]
  },
  {
   "cell_type": "code",
   "execution_count": 4,
   "metadata": {},
   "outputs": [
    {
     "name": "stdout",
     "output_type": "stream",
     "text": [
      "Rizwan\n",
      "24\n",
      "Pakistan\n",
      "Ali\n",
      "30\n"
     ]
    }
   ],
   "source": [
    "class parent:\n",
    "    def __init__(self, name, age):\n",
    "        self.name = name \n",
    "        self.age = age\n",
    "\n",
    "class child(parent):\n",
    "    def __init__(self, country,name, age):\n",
    "        super().__init__(name, age)\n",
    "        self.country = country\n",
    "\n",
    "p = parent('Rizwan', 24)\n",
    "print(p.name)\n",
    "print(p.age)\n",
    "\n",
    "c = child('Pakistan', 'Ali', 30)\n",
    "print(c.country)\n",
    "print(c.name)\n",
    "print(c.age)"
   ]
  },
  {
   "cell_type": "markdown",
   "metadata": {},
   "source": [
    "\n",
    " 14. **Class Methods (`@classmethod`):**\n",
    "     - Define a `Product` class with a class method `from_string()` that creates a `Product` instance from a string with details separated by a hyphen.\n"
   ]
  },
  {
   "cell_type": "code",
   "execution_count": 5,
   "metadata": {},
   "outputs": [
    {
     "name": "stdout",
     "output_type": "stream",
     "text": [
      "Product(name=Laptop, price=999.99, quantity=5)\n"
     ]
    }
   ],
   "source": [
    "class Product:\n",
    "    def __init__(self, name, price, quantity):\n",
    "        self.name = name\n",
    "        self.price = price\n",
    "        self.quantity = quantity\n",
    "\n",
    "    def __str__(self):\n",
    "        return f\"Product(name={self.name}, price={self.price}, quantity={self.quantity})\"\n",
    "\n",
    "    @classmethod\n",
    "    def from_string(cls, product_string):\n",
    "        # Split the string by hyphen\n",
    "        name, price, quantity = product_string.split('-')\n",
    "        # Convert price and quantity to appropriate data types\n",
    "        price = float(price)\n",
    "        quantity = int(quantity)\n",
    "        # Return a new instance of Product\n",
    "        return cls(name, price, quantity)\n",
    "\n",
    "# Creating a Product instance using the class method\n",
    "product_str = \"Laptop-999.99-5\"\n",
    "product = Product.from_string(product_str)\n",
    "\n",
    "print(product)\n"
   ]
  },
  {
   "cell_type": "markdown",
   "metadata": {},
   "source": [
    "15. **Static Methods (`@staticmethod`):**\n",
    "     - Implement a `MathOperations` class with a static method `add_numbers(a, b)` that returns the sum of two numbers.\n"
   ]
  },
  {
   "cell_type": "code",
   "execution_count": 3,
   "metadata": {},
   "outputs": [
    {
     "name": "stdout",
     "output_type": "stream",
     "text": [
      "6\n"
     ]
    }
   ],
   "source": [
    "import math\n",
    "\n",
    "class Mathoprations:\n",
    "\n",
    "    @staticmethod\n",
    "    def add_numbers(a, b):\n",
    "        return a + b\n",
    "    \n",
    "m = Mathoprations.add_numbers(2, 4)\n",
    "print(m)"
   ]
  },
  {
   "cell_type": "markdown",
   "metadata": {},
   "source": [
    " 16. **`__str__()` Method:**\n",
    "     - Add a `__str__()` method to the `Employee` class to return a formatted string representation of the object.\n"
   ]
  },
  {
   "cell_type": "code",
   "execution_count": 3,
   "metadata": {},
   "outputs": [
    {
     "name": "stdout",
     "output_type": "stream",
     "text": [
      "name is: rizwan and age is: 24\n"
     ]
    }
   ],
   "source": [
    "class Employee:\n",
    "    def __init__(self, name, age):\n",
    "        self.name = name\n",
    "        self.age = age\n",
    "    def __str__(self):\n",
    "        return f'name is: {self.name} and age is: {self.age}'\n",
    "    \n",
    "e = Employee('rizwan', 24)\n",
    "print(e)\n"
   ]
  },
  {
   "cell_type": "markdown",
   "metadata": {},
   "source": [
    "17. **Operator Overloading:**\n",
    "     - Overload the `+` operator in a `Vector` class to add two vectors together.\n"
   ]
  },
  {
   "cell_type": "code",
   "execution_count": 1,
   "metadata": {},
   "outputs": [
    {
     "name": "stdout",
     "output_type": "stream",
     "text": [
      "Vector is: (4, 6)\n"
     ]
    }
   ],
   "source": [
    "class Vector:\n",
    "    def __init__(self, a, b):\n",
    "        self.a = a\n",
    "        self.b = b\n",
    "\n",
    "    def __add__(self, other):\n",
    "        return Vector(self.a + other.a, self.b + other.b)\n",
    "    \n",
    "    def add_v(self):\n",
    "        return f'Vector is: ({self.a}, {self.b})'\n",
    "    \n",
    "\n",
    "v1 = Vector(1,2)\n",
    "v2 = Vector(3,4)\n",
    "v3 = v1 + v2\n",
    "print(v3.add_v())\n",
    "    "
   ]
  },
  {
   "cell_type": "markdown",
   "metadata": {},
   "source": [
    " 18. **Property Decorators (`@property`):**\n",
    "     - Implement a `Rectangle` class with attributes `length` and `width`. Use the `@property` decorator to calculate the area as a property.\n"
   ]
  },
  {
   "cell_type": "code",
   "execution_count": 5,
   "metadata": {},
   "outputs": [
    {
     "name": "stdout",
     "output_type": "stream",
     "text": [
      "15\n"
     ]
    }
   ],
   "source": [
    "class Rectangle:\n",
    "    def __init__(self, length, weight):\n",
    "        self.length = length\n",
    "        self.weight = weight\n",
    "\n",
    "    @property\n",
    "    def area(self):\n",
    "        return self.length * self.weight\n",
    "    \n",
    "a = Rectangle(5, 3)\n",
    "print(a.area)"
   ]
  },
  {
   "cell_type": "markdown",
   "metadata": {},
   "source": [
    "19. **Multiple Inheritance:**\n",
    "     - Create two classes `Bird` and `Flying`, and then create a subclass `FlyingBird` that inherits from both.\n"
   ]
  },
  {
   "cell_type": "code",
   "execution_count": 2,
   "metadata": {},
   "outputs": [
    {
     "name": "stdout",
     "output_type": "stream",
     "text": [
      "parrot\n",
      "pegone\n",
      "pecock\n",
      "crow\n"
     ]
    }
   ],
   "source": [
    "class Bird:\n",
    "    def __init__(self, parrot, pegone):\n",
    "        self.parrot = parrot\n",
    "        self.pegone = pegone\n",
    "\n",
    "\n",
    "class Flying:\n",
    "    def __init__(self, pecock, crow):\n",
    "        self.pecock = pecock\n",
    "        self.crow = crow\n",
    "\n",
    "\n",
    "class FlayingBird(Bird, Flying):\n",
    "    def __init__(self, parrot, pegone, pecock, crow):\n",
    "        Bird.__init__(self, parrot, pegone)  # Initialize the Bird class\n",
    "        Flying.__init__(self, pecock, crow)  # Initialize the Flying class\n",
    "\n",
    "\n",
    "a = FlayingBird('parrot', 'pegone', 'pecock', 'crow')\n",
    "print(a.parrot)\n",
    "print(a.pegone)\n",
    "print(a.pecock)\n",
    "print(a.crow)\n"
   ]
  },
  {
   "cell_type": "markdown",
   "metadata": {},
   "source": [
    "\n",
    " 20. **Mixin Classes:**\n",
    "     - Create a `LoggerMixin` class with a `log()` method, and mix it into another class like `Transaction`.\n"
   ]
  },
  {
   "cell_type": "code",
   "execution_count": 6,
   "metadata": {},
   "outputs": [
    {
     "name": "stdout",
     "output_type": "stream",
     "text": [
      "Logging: TransactionWithLogger has been created\n",
      "Processing transaction with amount: 100\n"
     ]
    }
   ],
   "source": [
    "class LoggerMixin:\n",
    "    def log(self):\n",
    "        print(f'Logging: {self.__class__.__name__} has been created')\n",
    "    \n",
    "class Transaction:\n",
    "    def __init__(self, amount):\n",
    "        self.amount = amount\n",
    "\n",
    "    def process(self):\n",
    "        print(f'Processing transaction with amount: {self.amount}')\n",
    "\n",
    "\n",
    "class TransactionWithLogger(Transaction, LoggerMixin):\n",
    "    def process(self):\n",
    "        return super().process()\n",
    "        \n",
    "trans = TransactionWithLogger(100)\n",
    "trans.log()\n",
    "trans.process()"
   ]
  },
  {
   "cell_type": "markdown",
   "metadata": {},
   "source": [
    " 21. **Abstract Base Class (`abc` module):**\n",
    "     - Define an abstract base class `Shape` with an abstract method `area()`. Implement the `area()` method in a subclass `Square`.\n"
   ]
  },
  {
   "cell_type": "code",
   "execution_count": 2,
   "metadata": {},
   "outputs": [
    {
     "name": "stdout",
     "output_type": "stream",
     "text": [
      "16\n"
     ]
    }
   ],
   "source": [
    "from abc import ABC,abstractmethod\n",
    "\n",
    "class Shape(ABC):\n",
    "    @abstractmethod\n",
    "    def area(self):\n",
    "        pass\n",
    "\n",
    "class Square(Shape):\n",
    "    def __init__(self, side_length):\n",
    "        self.side_length = side_length\n",
    "\n",
    "    def area(self):\n",
    "        return self.side_length ** 2\n",
    "    \n",
    "square = Square(4)\n",
    "print(square.area())"
   ]
  },
  {
   "cell_type": "markdown",
   "metadata": {},
   "source": [
    "\n",
    " 22. **Class Inheritance:**\n",
    "     - Create a base class `Employee` with a subclass `Manager`. The `Manager` class should inherit attributes and methods from `Employee`.\n"
   ]
  },
  {
   "cell_type": "code",
   "execution_count": 3,
   "metadata": {},
   "outputs": [
    {
     "name": "stdout",
     "output_type": "stream",
     "text": [
      "Employee Name: John Doe, Salary: 50000\n",
      "Manager Name: Jane Smith, Salary: 80000, Department: IT\n"
     ]
    }
   ],
   "source": [
    "# Base class\n",
    "class Employee:\n",
    "    def __init__(self, name, salary):\n",
    "        self.name = name\n",
    "        self.salary = salary\n",
    "    \n",
    "    def display_info(self):\n",
    "        return f\"Employee Name: {self.name}, Salary: {self.salary}\"\n",
    "\n",
    "# Subclass inheriting from Employee\n",
    "class Manager(Employee):\n",
    "    def __init__(self, name, salary, department):\n",
    "        # Call the constructor of the base class\n",
    "        super().__init__(name, salary)\n",
    "        self.department = department\n",
    "    \n",
    "    def display_info(self):\n",
    "        # Override the method to include department information\n",
    "        return f\"Manager Name: {self.name}, Salary: {self.salary}, Department: {self.department}\"\n",
    "\n",
    "# Example usage\n",
    "employee = Employee(\"John Doe\", 50000)\n",
    "manager = Manager(\"Jane Smith\", 80000, \"IT\")\n",
    "\n",
    "# Displaying information for both Employee and Manager\n",
    "print(employee.display_info())  # Output: Employee Name: John Doe, Salary: 50000\n",
    "print(manager.display_info())   # Output: Manager Name: Jane Smith, Salary: 80000, Department: IT\n"
   ]
  },
  {
   "cell_type": "markdown",
   "metadata": {},
   "source": [
    " 23. **Creating Getters and Setters:**\n",
    "     - Implement getter and setter methods in a `Person` class for the `age` attribute.\n"
   ]
  },
  {
   "cell_type": "code",
   "execution_count": 9,
   "metadata": {},
   "outputs": [
    {
     "name": "stdout",
     "output_type": "stream",
     "text": [
      "24\n",
      "66\n",
      "66\n"
     ]
    }
   ],
   "source": [
    "class Person:\n",
    "    def __init__(self, age):\n",
    "        self._age = age\n",
    "\n",
    "    def getter_age(self):\n",
    "        return self._age\n",
    "    \n",
    "    def setter_age(self, new_age):\n",
    "        if new_age > 0:\n",
    "            self._age = new_age\n",
    "            return new_age\n",
    "\n",
    "a = Person(24)\n",
    "print(a.getter_age())\n",
    "print(a.setter_age(66))\n",
    "print(a.getter_age())"
   ]
  },
  {
   "cell_type": "code",
   "execution_count": null,
   "metadata": {},
   "outputs": [],
   "source": []
  },
  {
   "cell_type": "markdown",
   "metadata": {},
   "source": [
    "### **Intermediate Concepts**"
   ]
  },
  {
   "cell_type": "markdown",
   "metadata": {},
   "source": [
    "24. **Method Resolution Order (MRO):**\n",
    "    - Create classes with multiple inheritance and print the method resolution order using the `mro()` method.\n"
   ]
  },
  {
   "cell_type": "code",
   "execution_count": 21,
   "metadata": {},
   "outputs": [
    {
     "name": "stdout",
     "output_type": "stream",
     "text": [
      "B\n",
      "(<class '__main__.D'>, <class '__main__.B'>, <class '__main__.C'>, <class '__main__.A'>, <class 'object'>)\n"
     ]
    }
   ],
   "source": [
    "class A:\n",
    "    def Show(self):\n",
    "        print(\"A\")\n",
    "\n",
    "class B(A):\n",
    "    def Show(self):\n",
    "        print(\"B\")\n",
    "\n",
    "class C(A):\n",
    "    def Show(self):\n",
    "        print('C')\n",
    "\n",
    "class D(B,C):\n",
    "    pass\n",
    "\n",
    "g = D()\n",
    "g.Show()\n",
    "print(D.__mro__)"
   ]
  },
  {
   "cell_type": "markdown",
   "metadata": {},
   "source": [
    " 25. **Data Hiding:**\n",
    "     - Implement a class with private attributes and provide access through public methods.\n"
   ]
  },
  {
   "cell_type": "code",
   "execution_count": 7,
   "metadata": {},
   "outputs": [
    {
     "name": "stdout",
     "output_type": "stream",
     "text": [
      "Rizwan\n",
      "24\n"
     ]
    }
   ],
   "source": [
    "class private_class:\n",
    "    def __init__(self, name,age):\n",
    "        self._name = name\n",
    "        self._age = age\n",
    "    def getter_name(self):\n",
    "        return self._name\n",
    "    \n",
    "    def getter_age(self):\n",
    "        return self._age\n",
    "    \n",
    "\n",
    "a = private_class('Rizwan', 24)\n",
    "print(a.getter_name())\n",
    "print(a.getter_age())"
   ]
  },
  {
   "cell_type": "markdown",
   "metadata": {},
   "source": [
    "\n",
    " 26. **Object Comparison:**\n",
    "     - Overload the `__eq__` method in a `Person` class to compare two `Person` objects based on their attributes.\n"
   ]
  },
  {
   "cell_type": "code",
   "execution_count": 2,
   "metadata": {},
   "outputs": [
    {
     "name": "stdout",
     "output_type": "stream",
     "text": [
      "False\n"
     ]
    }
   ],
   "source": [
    "class Person:\n",
    "    def __init__(self, name, age):\n",
    "        self.name = name\n",
    "        self.age = age\n",
    "    \n",
    "    def __eq__(self, other):\n",
    "        if isinstance(other, Person):\n",
    "            return self.name == other.name and self.age == other.age\n",
    "        return False\n",
    "    \n",
    "    def __str__(self):\n",
    "        return f\"Person(name={self.name}, age={self.age})\"\n",
    "    \n",
    "\n",
    "p1 = Person(\"John Doe\", 25)\n",
    "p2 = Person(\"John Doe\", 24)\n",
    "print(p1 == p2)"
   ]
  },
  {
   "cell_type": "markdown",
   "metadata": {},
   "source": [
    " 27. **Interface:**\n",
    "     - Create an interface using an abstract base class with methods `start()` and `stop()`. Implement these methods in `Car` and `Bike` classes.\n"
   ]
  },
  {
   "cell_type": "code",
   "execution_count": 4,
   "metadata": {},
   "outputs": [
    {
     "name": "stdout",
     "output_type": "stream",
     "text": [
      "Car started\n",
      "Bike started\n",
      "Car Stopped\n",
      "Bike Stopped\n"
     ]
    }
   ],
   "source": [
    "from abc import ABC, abstractmethod\n",
    "\n",
    "class Interface:\n",
    "    @abstractmethod\n",
    "    def start(self):\n",
    "        pass\n",
    "\n",
    "    @abstractmethod\n",
    "    def stop(self):\n",
    "        pass\n",
    "\n",
    "\n",
    "class Car(Interface):\n",
    "    def start(self):\n",
    "        print(\"Car started\")\n",
    "\n",
    "    def stop(self):\n",
    "        print(\"Car Stopped\")\n",
    "\n",
    "\n",
    "class Bike(Interface):\n",
    "    def start(self):\n",
    "        print(\"Bike started\")\n",
    "\n",
    "    def stop(self):\n",
    "        print(\"Bike Stopped\")\n",
    "\n",
    "\n",
    "car = Car()\n",
    "bike = Bike()\n",
    "car.start()\n",
    "bike.start()\n",
    "car.stop()\n",
    "bike.stop()\n"
   ]
  },
  {
   "cell_type": "markdown",
   "metadata": {},
   "source": [
    "28. **Method Chaining:**\n",
    "     - Create a `Car` class with methods `start()`, `accelerate()`, and `stop()` that can be chained together.\n"
   ]
  },
  {
   "cell_type": "code",
   "execution_count": 10,
   "metadata": {},
   "outputs": [
    {
     "name": "stdout",
     "output_type": "stream",
     "text": [
      "Car started.\n",
      "Accelerated to 50 km/h.\n",
      "Car stopped.\n"
     ]
    },
    {
     "data": {
      "text/plain": [
       "<__main__.Car at 0x726fc5515130>"
      ]
     },
     "execution_count": 10,
     "metadata": {},
     "output_type": "execute_result"
    }
   ],
   "source": [
    "class Car:\n",
    "    def __init__(self):\n",
    "        self.running = False\n",
    "        self.speed = 0\n",
    "\n",
    "    def start(self):\n",
    "        if not self.running:\n",
    "            self.running = True\n",
    "            print(\"Car started.\")\n",
    "        else:\n",
    "            print(\"Car is already running.\")\n",
    "        return self\n",
    "\n",
    "    def accelerate(self, amount=10):\n",
    "        if self.running:\n",
    "            self.speed += amount\n",
    "            print(f\"Accelerated to {self.speed} km/h.\")\n",
    "        else:\n",
    "            print(\"Car is not running. Start the car first.\")\n",
    "        return self\n",
    "\n",
    "    def stop(self):\n",
    "        if self.running:\n",
    "            self.running = False\n",
    "            self.speed = 0\n",
    "            print(\"Car stopped.\")\n",
    "        else:\n",
    "            print(\"Car is already stopped.\")\n",
    "        return self\n",
    "\n",
    "car = Car()\n",
    "car.start().accelerate(50).stop()\n"
   ]
  },
  {
   "cell_type": "markdown",
   "metadata": {},
   "source": [
    "\n",
    "29. **Decorator Pattern:**\n",
    "    - Implement a `Pizza` class and use a decorator pattern to add toppings like `Cheese` and `Pepperoni`.\n"
   ]
  },
  {
   "cell_type": "code",
   "execution_count": 3,
   "metadata": {},
   "outputs": [
    {
     "name": "stdout",
     "output_type": "stream",
     "text": [
      "Plain Pizza + Cheese + Pepperoni costs $8.5\n"
     ]
    }
   ],
   "source": [
    "# Base Pizza class\n",
    "class Pizza:\n",
    "    def get_description(self):\n",
    "        return \"Plain Pizza\"\n",
    "    \n",
    "    def get_cost(self):\n",
    "        return 5.00  # Base cost of plain pizza\n",
    "\n",
    "# Decorator classes for toppings\n",
    "class Cheese:\n",
    "    def __init__(self, pizza):\n",
    "        self.pizza = pizza\n",
    "    \n",
    "    def get_description(self):\n",
    "        return self.pizza.get_description() + \" + Cheese\"\n",
    "    \n",
    "    def get_cost(self):\n",
    "        return self.pizza.get_cost() + 1.50\n",
    "\n",
    "class Pepperoni:\n",
    "    def __init__(self, pizza):\n",
    "        self.pizza = pizza\n",
    "    \n",
    "    def get_description(self):\n",
    "        return self.pizza.get_description() + \" + Pepperoni\"\n",
    "    \n",
    "    def get_cost(self):\n",
    "        return self.pizza.get_cost() + 2.00\n",
    "\n",
    "# Usage\n",
    "pizza = Pizza()                 # Start with a plain pizza\n",
    "pizza = Cheese(pizza)           # Add cheese\n",
    "pizza = Pepperoni(pizza)        # Add pepperoni\n",
    "\n",
    "print(f\"{pizza.get_description()} costs ${pizza.get_cost()}\")\n"
   ]
  },
  {
   "cell_type": "code",
   "execution_count": null,
   "metadata": {},
   "outputs": [],
   "source": []
  }
 ],
 "metadata": {
  "kernelspec": {
   "display_name": "Python 3",
   "language": "python",
   "name": "python3"
  },
  "language_info": {
   "codemirror_mode": {
    "name": "ipython",
    "version": 3
   },
   "file_extension": ".py",
   "mimetype": "text/x-python",
   "name": "python",
   "nbconvert_exporter": "python",
   "pygments_lexer": "ipython3",
   "version": "3.12.3"
  }
 },
 "nbformat": 4,
 "nbformat_minor": 2
}
